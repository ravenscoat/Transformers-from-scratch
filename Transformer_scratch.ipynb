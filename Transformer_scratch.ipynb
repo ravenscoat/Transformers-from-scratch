{
  "nbformat": 4,
  "nbformat_minor": 0,
  "metadata": {
    "colab": {
      "provenance": [],
      "gpuType": "T4"
    },
    "kernelspec": {
      "name": "python3",
      "display_name": "Python 3"
    },
    "language_info": {
      "name": "python"
    },
    "accelerator": "GPU"
  },
  "cells": [
    {
      "cell_type": "code",
      "execution_count": null,
      "metadata": {
        "id": "4OkWeWDzClxe"
      },
      "outputs": [],
      "source": [
        "import torch\n",
        "import torch.nn as nn\n",
        "import torch.optim as optim\n",
        "import torch.utils.data as data\n",
        "import math\n",
        "import copy"
      ]
    },
    {
      "cell_type": "code",
      "source": [
        "class MultiHeadAttention(nn.Module):\n",
        "    def __init__(self, d_model, num_heads):\n",
        "        super(MultiHeadAttention, self).__init__()\n",
        "        assert d_model % num_heads == 0, \"d_model must be divisible by num_heads\"\n",
        "\n",
        "        self.d_model = d_model\n",
        "        self.num_heads = num_heads\n",
        "        self.d_k = d_model // num_heads\n",
        "\n",
        "        self.W_q = nn.Linear(d_model, d_model)\n",
        "        self.W_k = nn.Linear(d_model, d_model)\n",
        "        self.W_v = nn.Linear(d_model, d_model)\n",
        "        self.W_o = nn.Linear(d_model, d_model)\n",
        "\n",
        "    def scaled_dot_product_attention(self, Q, K, V, mask=None):\n",
        "        attn_scores = torch.matmul(Q, K.transpose(-2, -1)) / math.sqrt(self.d_k)\n",
        "        if mask is not None:\n",
        "            attn_scores = attn_scores.masked_fill(mask == 0, -1e9)\n",
        "        attn_probs = torch.softmax(attn_scores, dim=-1)\n",
        "        output = torch.matmul(attn_probs, V)\n",
        "        return output\n",
        "\n",
        "    def split_heads(self, x):\n",
        "        batch_size, seq_length, d_model = x.size()\n",
        "        return x.view(batch_size, seq_length, self.num_heads, self.d_k).transpose(1, 2)\n",
        "\n",
        "    def combine_heads(self, x):\n",
        "        batch_size, _, seq_length, d_k = x.size()\n",
        "        return x.transpose(1, 2).contiguous().view(batch_size, seq_length, self.d_model)\n",
        "\n",
        "    def forward(self, Q, K, V, mask=None):\n",
        "        Q = self.split_heads(self.W_q(Q))\n",
        "        K = self.split_heads(self.W_k(K))\n",
        "        V = self.split_heads(self.W_v(V))\n",
        "\n",
        "        attn_output = self.scaled_dot_product_attention(Q, K, V, mask)\n",
        "        output = self.W_o(self.combine_heads(attn_output))\n",
        "        return output"
      ],
      "metadata": {
        "id": "QTl-0fN6DZgC"
      },
      "execution_count": null,
      "outputs": []
    },
    {
      "cell_type": "code",
      "source": [
        "class PositionWiseFeedForward(nn.Module):\n",
        "    def __init__(self, d_model, d_ff):\n",
        "        super(PositionWiseFeedForward, self).__init__()\n",
        "        self.fc1 = nn.Linear(d_model, d_ff)\n",
        "        self.fc2 = nn.Linear(d_ff, d_model)\n",
        "        self.relu = nn.ReLU()\n",
        "\n",
        "    def forward(self, x):\n",
        "        return self.fc2(self.relu(self.fc1(x)))"
      ],
      "metadata": {
        "id": "SYDNyArED2TT"
      },
      "execution_count": null,
      "outputs": []
    },
    {
      "cell_type": "code",
      "source": [
        "class PositionalEncoding(nn.Module):\n",
        "    def __init__(self, d_model, max_seq_length):\n",
        "        super(PositionalEncoding, self).__init__()\n",
        "\n",
        "        pe = torch.zeros(max_seq_length, d_model)\n",
        "        position = torch.arange(0, max_seq_length, dtype=torch.float).unsqueeze(1)\n",
        "        div_term = torch.exp(torch.arange(0, d_model, 2).float() * -(math.log(10000.0) / d_model))\n",
        "\n",
        "        pe[:, 0::2] = torch.sin(position * div_term)\n",
        "        pe[:, 1::2] = torch.cos(position * div_term)\n",
        "\n",
        "        self.register_buffer('pe', pe.unsqueeze(0))\n",
        "\n",
        "    def forward(self, x):\n",
        "        return x + self.pe[:, :x.size(1)]"
      ],
      "metadata": {
        "id": "zM2ODfH1D5Cb"
      },
      "execution_count": null,
      "outputs": []
    },
    {
      "cell_type": "code",
      "source": [
        "class EncoderLayer(nn.Module):\n",
        "    def __init__(self, d_model, num_heads, d_ff, dropout):\n",
        "        super(EncoderLayer, self).__init__()\n",
        "        self.self_attn = MultiHeadAttention(d_model, num_heads)\n",
        "        self.feed_forward = PositionWiseFeedForward(d_model, d_ff)\n",
        "        self.norm1 = nn.LayerNorm(d_model)\n",
        "        self.norm2 = nn.LayerNorm(d_model)\n",
        "        self.dropout = nn.Dropout(dropout)\n",
        "\n",
        "    def forward(self, x, mask):\n",
        "        attn_output = self.self_attn(x, x, x, mask)\n",
        "        x = self.norm1(x + self.dropout(attn_output))\n",
        "        ff_output = self.feed_forward(x)\n",
        "        x = self.norm2(x + self.dropout(ff_output))\n",
        "        return x"
      ],
      "metadata": {
        "id": "ySk5d6X9D8nH"
      },
      "execution_count": null,
      "outputs": []
    },
    {
      "cell_type": "code",
      "source": [
        "class DecoderLayer(nn.Module):\n",
        "    def __init__(self, d_model, num_heads, d_ff, dropout):\n",
        "        super(DecoderLayer, self).__init__()\n",
        "        self.self_attn = MultiHeadAttention(d_model, num_heads)\n",
        "        self.cross_attn = MultiHeadAttention(d_model, num_heads)\n",
        "        self.feed_forward = PositionWiseFeedForward(d_model, d_ff)\n",
        "        self.norm1 = nn.LayerNorm(d_model)\n",
        "        self.norm2 = nn.LayerNorm(d_model)\n",
        "        self.norm3 = nn.LayerNorm(d_model)\n",
        "        self.dropout = nn.Dropout(dropout)\n",
        "\n",
        "    def forward(self, x, enc_output, src_mask, tgt_mask):\n",
        "        attn_output = self.self_attn(x, x, x, tgt_mask)\n",
        "        x = self.norm1(x + self.dropout(attn_output))\n",
        "        attn_output = self.cross_attn(x, enc_output, enc_output, src_mask)\n",
        "        x = self.norm2(x + self.dropout(attn_output))\n",
        "        ff_output = self.feed_forward(x)\n",
        "        x = self.norm3(x + self.dropout(ff_output))\n",
        "        return x"
      ],
      "metadata": {
        "id": "sP0vwUbBD_QN"
      },
      "execution_count": null,
      "outputs": []
    },
    {
      "cell_type": "code",
      "source": [
        "class Transformer(nn.Module):\n",
        "    def __init__(self, src_vocab_size, tgt_vocab_size, d_model, num_heads, num_layers, d_ff, max_seq_length, dropout):\n",
        "        super(Transformer, self).__init__()\n",
        "        self.encoder_embedding = nn.Embedding(src_vocab_size, d_model)\n",
        "        self.decoder_embedding = nn.Embedding(tgt_vocab_size, d_model)\n",
        "        self.positional_encoding = PositionalEncoding(d_model, max_seq_length)\n",
        "\n",
        "        self.encoder_layers = nn.ModuleList([EncoderLayer(d_model, num_heads, d_ff, dropout) for _ in range(num_layers)])\n",
        "        self.decoder_layers = nn.ModuleList([DecoderLayer(d_model, num_heads, d_ff, dropout) for _ in range(num_layers)])\n",
        "\n",
        "        self.fc = nn.Linear(d_model, tgt_vocab_size)\n",
        "        self.dropout = nn.Dropout(dropout)\n",
        "\n",
        "    def generate_mask(self, src, tgt):\n",
        "        src_mask = (src != 0).unsqueeze(1).unsqueeze(2)\n",
        "        tgt_mask = (tgt != 0).unsqueeze(1).unsqueeze(3)\n",
        "        seq_length = tgt.size(1)\n",
        "        nopeak_mask = (1 - torch.triu(torch.ones(1, seq_length, seq_length), diagonal=1)).bool()\n",
        "        tgt_mask = tgt_mask & nopeak_mask\n",
        "        return src_mask, tgt_mask\n",
        "\n",
        "    def forward(self, src, tgt):\n",
        "        src_mask, tgt_mask = self.generate_mask(src, tgt)\n",
        "        src_embedded = self.dropout(self.positional_encoding(self.encoder_embedding(src)))\n",
        "        tgt_embedded = self.dropout(self.positional_encoding(self.decoder_embedding(tgt)))\n",
        "\n",
        "        enc_output = src_embedded\n",
        "        for enc_layer in self.encoder_layers:\n",
        "            enc_output = enc_layer(enc_output, src_mask)\n",
        "\n",
        "        dec_output = tgt_embedded\n",
        "        for dec_layer in self.decoder_layers:\n",
        "            dec_output = dec_layer(dec_output, enc_output, src_mask, tgt_mask)\n",
        "\n",
        "        output = self.fc(dec_output)\n",
        "        return output"
      ],
      "metadata": {
        "id": "xcmgvi6gECmk"
      },
      "execution_count": null,
      "outputs": []
    },
    {
      "cell_type": "code",
      "source": [
        "src_vocab_size = 5000\n",
        "tgt_vocab_size = 5000\n",
        "d_model = 512\n",
        "num_heads = 8\n",
        "num_layers = 6\n",
        "d_ff = 2048\n",
        "max_seq_length = 100\n",
        "dropout = 0.1\n",
        "\n",
        "transformer = Transformer(src_vocab_size, tgt_vocab_size, d_model, num_heads, num_layers, d_ff, max_seq_length, dropout)\n",
        "\n",
        "# Generate random sample data\n",
        "src_data = torch.randint(1, src_vocab_size, (64, max_seq_length))  # (batch_size, seq_length)\n",
        "tgt_data = torch.randint(1, tgt_vocab_size, (64, max_seq_length))  # (batch_size, seq_length)"
      ],
      "metadata": {
        "id": "LAKeZswcEFPv"
      },
      "execution_count": null,
      "outputs": []
    },
    {
      "cell_type": "code",
      "source": [
        "criterion = nn.CrossEntropyLoss(ignore_index=0)\n",
        "optimizer = optim.Adam(transformer.parameters(), lr=0.0001, betas=(0.9, 0.98), eps=1e-9)\n",
        "\n",
        "transformer.train()\n",
        "\n",
        "for epoch in range(100):\n",
        "    optimizer.zero_grad()\n",
        "    output = transformer(src_data, tgt_data[:, :-1])\n",
        "    loss = criterion(output.contiguous().view(-1, tgt_vocab_size), tgt_data[:, 1:].contiguous().view(-1))\n",
        "    loss.backward()\n",
        "    optimizer.step()\n",
        "    print(f\"Epoch: {epoch+1}, Loss: {loss.item()}\")"
      ],
      "metadata": {
        "colab": {
          "base_uri": "https://localhost:8080/"
        },
        "id": "r0X1FjPQEJaw",
        "outputId": "9923666f-78af-46c7-dcbe-2e9ddd10bcc2"
      },
      "execution_count": null,
      "outputs": [
        {
          "output_type": "stream",
          "name": "stdout",
          "text": [
            "Epoch: 1, Loss: 8.686551094055176\n",
            "Epoch: 2, Loss: 8.556952476501465\n",
            "Epoch: 3, Loss: 8.488222122192383\n",
            "Epoch: 4, Loss: 8.436504364013672\n",
            "Epoch: 5, Loss: 8.37769889831543\n",
            "Epoch: 6, Loss: 8.312474250793457\n",
            "Epoch: 7, Loss: 8.229312896728516\n",
            "Epoch: 8, Loss: 8.149511337280273\n",
            "Epoch: 9, Loss: 8.074019432067871\n",
            "Epoch: 10, Loss: 7.989862442016602\n",
            "Epoch: 11, Loss: 7.908804893493652\n",
            "Epoch: 12, Loss: 7.822635650634766\n",
            "Epoch: 13, Loss: 7.738357067108154\n",
            "Epoch: 14, Loss: 7.65670108795166\n",
            "Epoch: 15, Loss: 7.578771114349365\n",
            "Epoch: 16, Loss: 7.4881768226623535\n",
            "Epoch: 17, Loss: 7.405672550201416\n",
            "Epoch: 18, Loss: 7.325314998626709\n",
            "Epoch: 19, Loss: 7.241016864776611\n",
            "Epoch: 20, Loss: 7.159550189971924\n",
            "Epoch: 21, Loss: 7.0804314613342285\n",
            "Epoch: 22, Loss: 7.001288414001465\n",
            "Epoch: 23, Loss: 6.926687717437744\n",
            "Epoch: 24, Loss: 6.848626613616943\n",
            "Epoch: 25, Loss: 6.761743545532227\n",
            "Epoch: 26, Loss: 6.6967291831970215\n",
            "Epoch: 27, Loss: 6.628812313079834\n",
            "Epoch: 28, Loss: 6.559946537017822\n",
            "Epoch: 29, Loss: 6.478420257568359\n",
            "Epoch: 30, Loss: 6.412239074707031\n",
            "Epoch: 31, Loss: 6.3399338722229\n",
            "Epoch: 32, Loss: 6.2641777992248535\n",
            "Epoch: 33, Loss: 6.203676223754883\n",
            "Epoch: 34, Loss: 6.136780261993408\n",
            "Epoch: 35, Loss: 6.0649237632751465\n",
            "Epoch: 36, Loss: 6.012808799743652\n",
            "Epoch: 37, Loss: 5.941067218780518\n",
            "Epoch: 38, Loss: 5.877546310424805\n",
            "Epoch: 39, Loss: 5.80812406539917\n",
            "Epoch: 40, Loss: 5.74738883972168\n",
            "Epoch: 41, Loss: 5.690581798553467\n",
            "Epoch: 42, Loss: 5.6207194328308105\n",
            "Epoch: 43, Loss: 5.560493469238281\n",
            "Epoch: 44, Loss: 5.498601913452148\n",
            "Epoch: 45, Loss: 5.441469669342041\n",
            "Epoch: 46, Loss: 5.37938117980957\n",
            "Epoch: 47, Loss: 5.3245697021484375\n",
            "Epoch: 48, Loss: 5.271381378173828\n",
            "Epoch: 49, Loss: 5.209629058837891\n",
            "Epoch: 50, Loss: 5.151702880859375\n",
            "Epoch: 51, Loss: 5.098428726196289\n",
            "Epoch: 52, Loss: 5.046805381774902\n",
            "Epoch: 53, Loss: 4.98757266998291\n",
            "Epoch: 54, Loss: 4.92942476272583\n",
            "Epoch: 55, Loss: 4.874358654022217\n",
            "Epoch: 56, Loss: 4.816884517669678\n",
            "Epoch: 57, Loss: 4.763137340545654\n",
            "Epoch: 58, Loss: 4.712693691253662\n",
            "Epoch: 59, Loss: 4.660069942474365\n",
            "Epoch: 60, Loss: 4.602972984313965\n",
            "Epoch: 61, Loss: 4.552911758422852\n",
            "Epoch: 62, Loss: 4.51280403137207\n",
            "Epoch: 63, Loss: 4.461724281311035\n",
            "Epoch: 64, Loss: 4.408936023712158\n",
            "Epoch: 65, Loss: 4.352636337280273\n",
            "Epoch: 66, Loss: 4.304685115814209\n",
            "Epoch: 67, Loss: 4.248964786529541\n",
            "Epoch: 68, Loss: 4.205987930297852\n",
            "Epoch: 69, Loss: 4.152403831481934\n",
            "Epoch: 70, Loss: 4.105590343475342\n",
            "Epoch: 71, Loss: 4.052888870239258\n",
            "Epoch: 72, Loss: 3.99993896484375\n",
            "Epoch: 73, Loss: 3.9575963020324707\n",
            "Epoch: 74, Loss: 3.9111204147338867\n",
            "Epoch: 75, Loss: 3.8552424907684326\n",
            "Epoch: 76, Loss: 3.8156566619873047\n",
            "Epoch: 77, Loss: 3.7658026218414307\n",
            "Epoch: 78, Loss: 3.712399482727051\n",
            "Epoch: 79, Loss: 3.673520803451538\n",
            "Epoch: 80, Loss: 3.6318531036376953\n",
            "Epoch: 81, Loss: 3.5796189308166504\n",
            "Epoch: 82, Loss: 3.535109043121338\n",
            "Epoch: 83, Loss: 3.4871017932891846\n",
            "Epoch: 84, Loss: 3.450059413909912\n",
            "Epoch: 85, Loss: 3.3997790813446045\n",
            "Epoch: 86, Loss: 3.3581626415252686\n",
            "Epoch: 87, Loss: 3.313236713409424\n",
            "Epoch: 88, Loss: 3.2611379623413086\n",
            "Epoch: 89, Loss: 3.216618061065674\n",
            "Epoch: 90, Loss: 3.178129196166992\n",
            "Epoch: 91, Loss: 3.1298232078552246\n",
            "Epoch: 92, Loss: 3.087999105453491\n",
            "Epoch: 93, Loss: 3.0482096672058105\n",
            "Epoch: 94, Loss: 3.0039327144622803\n",
            "Epoch: 95, Loss: 2.9648656845092773\n",
            "Epoch: 96, Loss: 2.914778470993042\n",
            "Epoch: 97, Loss: 2.8719515800476074\n",
            "Epoch: 98, Loss: 2.8288676738739014\n",
            "Epoch: 99, Loss: 2.784907817840576\n",
            "Epoch: 100, Loss: 2.74769926071167\n"
          ]
        }
      ]
    },
    {
      "cell_type": "code",
      "source": [],
      "metadata": {
        "id": "D9GJz8X-EMY_"
      },
      "execution_count": null,
      "outputs": []
    },
    {
      "cell_type": "code",
      "source": [],
      "metadata": {
        "id": "q13Yxkd-Omy4"
      },
      "execution_count": null,
      "outputs": []
    }
  ]
}